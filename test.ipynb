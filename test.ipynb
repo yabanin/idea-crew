{
 "cells": [
  {
   "cell_type": "code",
   "execution_count": 4,
   "metadata": {},
   "outputs": [
    {
     "name": "stdout",
     "output_type": "stream",
     "text": [
      "Collecting openai\n",
      "  Downloading openai-1.65.2-py3-none-any.whl (473 kB)\n",
      "\u001b[K     |████████████████████████████████| 473 kB 3.6 MB/s eta 0:00:01\n",
      "\u001b[?25hRequirement already satisfied: tqdm>4 in /Users/okadadaichi/opt/anaconda3/lib/python3.9/site-packages (from openai) (4.64.0)\n",
      "Collecting pydantic<3,>=1.9.0\n",
      "  Downloading pydantic-2.10.6-py3-none-any.whl (431 kB)\n",
      "\u001b[K     |████████████████████████████████| 431 kB 19.9 MB/s eta 0:00:01\n",
      "\u001b[?25hCollecting distro<2,>=1.7.0\n",
      "  Downloading distro-1.9.0-py3-none-any.whl (20 kB)\n",
      "Collecting typing-extensions<5,>=4.11\n",
      "  Downloading typing_extensions-4.12.2-py3-none-any.whl (37 kB)\n",
      "Requirement already satisfied: sniffio in /Users/okadadaichi/opt/anaconda3/lib/python3.9/site-packages (from openai) (1.2.0)\n",
      "Collecting httpx<1,>=0.23.0\n",
      "  Downloading httpx-0.28.1-py3-none-any.whl (73 kB)\n",
      "\u001b[K     |████████████████████████████████| 73 kB 1.2 MB/s eta 0:00:011\n",
      "\u001b[?25hCollecting jiter<1,>=0.4.0\n",
      "  Downloading jiter-0.8.2-cp39-cp39-macosx_10_12_x86_64.whl (304 kB)\n",
      "\u001b[K     |████████████████████████████████| 304 kB 9.6 MB/s eta 0:00:01\n",
      "\u001b[?25hRequirement already satisfied: anyio<5,>=3.5.0 in /Users/okadadaichi/opt/anaconda3/lib/python3.9/site-packages (from openai) (3.5.0)\n",
      "Requirement already satisfied: idna>=2.8 in /Users/okadadaichi/opt/anaconda3/lib/python3.9/site-packages (from anyio<5,>=3.5.0->openai) (3.3)\n",
      "Collecting httpcore==1.*\n",
      "  Downloading httpcore-1.0.7-py3-none-any.whl (78 kB)\n",
      "\u001b[K     |████████████████████████████████| 78 kB 10.4 MB/s eta 0:00:01\n",
      "\u001b[?25hRequirement already satisfied: certifi in /Users/okadadaichi/opt/anaconda3/lib/python3.9/site-packages (from httpx<1,>=0.23.0->openai) (2024.8.30)\n",
      "Collecting h11<0.15,>=0.13\n",
      "  Downloading h11-0.14.0-py3-none-any.whl (58 kB)\n",
      "\u001b[K     |████████████████████████████████| 58 kB 3.6 MB/s eta 0:00:011\n",
      "\u001b[?25hCollecting annotated-types>=0.6.0\n",
      "  Downloading annotated_types-0.7.0-py3-none-any.whl (13 kB)\n",
      "Collecting pydantic-core==2.27.2\n",
      "  Downloading pydantic_core-2.27.2-cp39-cp39-macosx_10_12_x86_64.whl (1.9 MB)\n",
      "\u001b[K     |████████████████████████████████| 1.9 MB 2.9 MB/s eta 0:00:01\n",
      "\u001b[?25hInstalling collected packages: typing-extensions, h11, pydantic-core, httpcore, annotated-types, pydantic, jiter, httpx, distro, openai\n",
      "  Attempting uninstall: typing-extensions\n",
      "    Found existing installation: typing-extensions 4.1.1\n",
      "    Uninstalling typing-extensions-4.1.1:\n",
      "      Successfully uninstalled typing-extensions-4.1.1\n",
      "Successfully installed annotated-types-0.7.0 distro-1.9.0 h11-0.14.0 httpcore-1.0.7 httpx-0.28.1 jiter-0.8.2 openai-1.65.2 pydantic-2.10.6 pydantic-core-2.27.2 typing-extensions-4.12.2\n",
      "Note: you may need to restart the kernel to use updated packages.\n"
     ]
    }
   ],
   "source": [
    "pip install openai"
   ]
  },
  {
   "cell_type": "code",
   "execution_count": 5,
   "metadata": {},
   "outputs": [],
   "source": [
    "import openai"
   ]
  },
  {
   "cell_type": "code",
   "execution_count": 7,
   "metadata": {},
   "outputs": [
    {
     "name": "stdout",
     "output_type": "stream",
     "text": [
      "Collecting python-dotenv\n",
      "  Downloading python_dotenv-1.0.1-py3-none-any.whl (19 kB)\n",
      "Installing collected packages: python-dotenv\n",
      "Successfully installed python-dotenv-1.0.1\n",
      "Note: you may need to restart the kernel to use updated packages.\n"
     ]
    }
   ],
   "source": [
    "pip install python-dotenv\n"
   ]
  },
  {
   "cell_type": "code",
   "execution_count": null,
   "metadata": {},
   "outputs": [
    {
     "name": "stdout",
     "output_type": "stream",
     "text": [
      "\n",
      "📝 生成されたアイデア:\n",
      " 【テーマ】チーム開発のためのタスク管理アプリ\n",
      "\n",
      "1. **代替（Substitute）**\n",
      "   - タスクの進捗状況を示すためのビジュアル要素を、従来のリスト表示からカンバンボードやガントチャートに置き換えることで、より直感的にタスクの状態を把握できるようにする。\n",
      "   - 通知機能をメールやプッシュ通知から、チャットツール（SlackやTeamsなど）との連携に置き換え、チームメンバーがリアルタイムで情報を受け取れるようにする。\n",
      "\n",
      "2. **結合（Combine）**\n",
      "   - タスク管理機能とコミュニケーション機能（メッセージやコメント機能）を統合し、タスクごとにディスカッションを行えるスペースを設けることで、情報の一元管理を促進する。\n",
      "   - タスク管理アプリとファイル共有サービス（Google DriveやDropboxなど）を結合し、タスクに関連するドキュメントを直接リンクできるようにする。\n",
      "\n",
      "3. **適応（Adapt）**\n",
      "   - プロジェクトの進捗をトラッキングするためのダッシュボード機能を、個人の目標達成管理に適用できるようにし、個々のパフォーマンスを可視化する。\n",
      "   - タスクの優先順位付け機能を、チームのリソース管理やスケジューリングに応用し、リソースの最適化を図る。\n",
      "\n",
      "4. **修正（Modify）**\n",
      "   - タスクの期限設定を、単なる日付から「マイルストーン」や「目標達成日」として変更し、より具体的な成果に結び付ける。\n",
      "   - タスクの進捗状況を示す指標を、定量的な数値から「色分け」や「アイコン」で視覚的に表示することで、迅速に状況を把握できるようにする。\n",
      "\n",
      "5. **他の用途（Put to another use）**\n",
      "   - タスク管理機能をプロジェクト以外\n"
     ]
    }
   ],
   "source": [
    "# coding: UTF-8\n",
    "import os\n",
    "from os.path import join, dirname\n",
    "from dotenv import load_dotenv\n",
    "\n",
    "\n",
    "\n",
    "\n",
    "import openai\n",
    "import getpass  # 🔹 APIキーを安全に入力するためのライブラリ\n",
    "\n",
    "load_dotenv('.env')\n",
    "\n",
    "API_KEY = os.environ.get(\"API_KEY\") # 環境変数の値をAPに代入\n",
    "\n",
    "\n",
    "\n",
    "# ✅ OpenAI クライアントの作成\n",
    "client = openai.OpenAI(api_key=API_KEY)  # 修正 ✅\n",
    "\n",
    "# SCAMPERのプロンプトテンプレート\n",
    "scamper_prompt = \"\"\"\n",
    "あなたは創造的な発想を支援するAIです。\n",
    "以下のSCAMPERフレームワークに従って、ユーザーのアイデアを拡張してください。\n",
    "\n",
    "【テーマ】{user_idea}\n",
    "\n",
    "1. 代替（Substitute）: 何かを置き換えて新しい価値を生むには？\n",
    "2. 結合（Combine）: 何かを組み合わせて新しいアイデアにできるか？\n",
    "3. 適応（Adapt）: 既存のものを別の用途に適用できるか？\n",
    "4. 修正（Modify）: 特定の要素を変更することで新しい可能性はあるか？\n",
    "5. 他の用途（Put to another use）: 別の使い方ができるか？\n",
    "6. 削除（Eliminate）: 何かを省略・単純化できないか？\n",
    "7. 逆転（Reverse/Rearrange）: 逆にすることで新しい発想が生まれるか？\n",
    "\n",
    "それぞれ**2つのアイデアを提案してください。**\n",
    "\"\"\"\n",
    "\n",
    "# ✅ SCAMPERアイデア生成関数\n",
    "def generate_scamper_ideas(user_idea, max_tokens=500):\n",
    "    response = client.chat.completions.create(\n",
    "        model=\"gpt-4o-mini\",\n",
    "        messages=[\n",
    "            {\"role\": \"system\", \"content\": \"あなたはアイデア発想を支援するAIです。\"},\n",
    "            {\"role\": \"user\", \"content\": scamper_prompt.format(user_idea=user_idea)}\n",
    "        ],\n",
    "        max_tokens=max_tokens,  # ✅ 最大トークン数を制限\n",
    "        temperature=0.7  # ✅ 生成の多様性を調整\n",
    "    )\n",
    "    return response.choices[0].message.content.strip()\n",
    "\n",
    "# ✅ ユーザー入力\n",
    "user_input = input(\"💡 アイデアのテーマを入力してください: \")\n",
    "result = generate_scamper_ideas(user_input)\n",
    "\n",
    "# ✅ 生成されたアイデアを表示\n",
    "print(\"\\n📝 生成されたアイデア:\\n\", result)\n"
   ]
  },
  {
   "cell_type": "code",
   "execution_count": null,
   "metadata": {},
   "outputs": [],
   "source": []
  }
 ],
 "metadata": {
  "kernelspec": {
   "display_name": "base",
   "language": "python",
   "name": "python3"
  },
  "language_info": {
   "codemirror_mode": {
    "name": "ipython",
    "version": 3
   },
   "file_extension": ".py",
   "mimetype": "text/x-python",
   "name": "python",
   "nbconvert_exporter": "python",
   "pygments_lexer": "ipython3",
   "version": "3.9.12"
  }
 },
 "nbformat": 4,
 "nbformat_minor": 2
}
