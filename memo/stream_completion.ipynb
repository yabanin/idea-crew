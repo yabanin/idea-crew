{
 "cells": [
  {
   "cell_type": "code",
   "execution_count": null,
   "metadata": {},
   "outputs": [
    {
     "name": "stdout",
     "output_type": "stream",
     "text": [
      "ChatGPT: \n",
      "\n"
     ]
    }
   ],
   "source": [
    "import openai\n",
    "import os\n",
    "from dotenv import load_dotenv\n",
    "\n",
    "# 環境変数のロード\n",
    "load_dotenv(\"../.env\")\n",
    "API_KEY = os.getenv(\"API_KEY\")\n",
    "\n",
    "client = openai.Client(api_key=API_KEY)\n",
    "\n",
    "#user_input = input(\"You: \")\n",
    "user_input = \"こんにちは\"\n",
    "\n",
    "stream = client.chat.completions.create(\n",
    "    model=\"gpt-4o-mini\",\n",
    "    messages=[\n",
    "        {\"role\": \"system\", \"content\": \"あなたはユーザーの入力を補完するAIです。\"},\n",
    "        {\"role\": \"user\", \"content\": user_input},\n",
    "    ],\n",
    "    max_tokens=50,\n",
    "    temperature=0.7,\n",
    "    stream=True\n",
    ")\n",
    "\n",
    "print(\"ChatGPT: \", end=\"\", flush=True)  # ここでリアルタイムに表示する準備\n",
    "\n",
    "# ストリーミングレスポンスを受け取り、補完内容を逐次表示\n",
    "for chunk in stream:\n",
    "    if \"choices\" in chunk and len(chunk[\"choices\"]) > 0:\n",
    "        # 逐次的に補完内容を表示\n",
    "        content = chunk[\"choices\"][0][\"delta\"].get(\"content\", \"\")\n",
    "        print(content, end=\"\", flush=True)  # 進行中の補完を表示\n",
    "        assistant_reply += content\n",
    "\n",
    "\n"
   ]
  },
  {
   "cell_type": "code",
   "execution_count": 26,
   "metadata": {},
   "outputs": [],
   "source": [
    "for chunk in stream:\n",
    "    print(chunk)\n",
    "    print(chunk.choices[0].delta.content)\n",
    "    print(\"****************\")"
   ]
  }
 ],
 "metadata": {
  "kernelspec": {
   "display_name": "venv",
   "language": "python",
   "name": "python3"
  },
  "language_info": {
   "codemirror_mode": {
    "name": "ipython",
    "version": 3
   },
   "file_extension": ".py",
   "mimetype": "text/x-python",
   "name": "python",
   "nbconvert_exporter": "python",
   "pygments_lexer": "ipython3",
   "version": "3.12.5"
  }
 },
 "nbformat": 4,
 "nbformat_minor": 2
}
